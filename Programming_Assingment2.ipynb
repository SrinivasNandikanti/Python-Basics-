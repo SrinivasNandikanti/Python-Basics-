{
 "cells": [
  {
   "cell_type": "markdown",
   "id": "18df9c6e",
   "metadata": {},
   "source": [
    "1.\tWrite a Python program to convert kilometers to miles?"
   ]
  },
  {
   "cell_type": "code",
   "execution_count": 10,
   "id": "b5ade177",
   "metadata": {},
   "outputs": [
    {
     "name": "stdout",
     "output_type": "stream",
     "text": [
      "The distance in kilometers 3\n",
      "The distance in miles: 1.8641130000000001\n"
     ]
    }
   ],
   "source": [
    "Dist_in_km = float(input(\"The distance in kilometers \"))\n",
    "d = Dist_in_km * 0.621371\n",
    "print(\"The distance in miles: {}\".format(d))"
   ]
  },
  {
   "cell_type": "markdown",
   "id": "00f78542",
   "metadata": {},
   "source": [
    "2.\tWrite a Python program to convert Celsius to Fahrenheit?"
   ]
  },
  {
   "cell_type": "code",
   "execution_count": 14,
   "id": "ce421fe3",
   "metadata": {},
   "outputs": [
    {
     "name": "stdout",
     "output_type": "stream",
     "text": [
      "The temperature in Celsius 27\n",
      "The temperature in Fahrenheit: 80.6\n"
     ]
    }
   ],
   "source": [
    "temp_in_C = float(input(\"The temperature in Celsius \"))\n",
    "t = (temp_in_C * (9/5)+32)\n",
    "print(\"The temperature in Fahrenheit: {}\".format(t))"
   ]
  },
  {
   "cell_type": "markdown",
   "id": "b83e250d",
   "metadata": {},
   "source": [
    "3.\tWrite a Python program to display calendar?"
   ]
  },
  {
   "cell_type": "code",
   "execution_count": 18,
   "id": "1fb425a8",
   "metadata": {},
   "outputs": [
    {
     "name": "stdout",
     "output_type": "stream",
     "text": [
      "Enter the year 2014\n",
      "Enter the month12\n",
      "   December 2014\n",
      "Mo Tu We Th Fr Sa Su\n",
      " 1  2  3  4  5  6  7\n",
      " 8  9 10 11 12 13 14\n",
      "15 16 17 18 19 20 21\n",
      "22 23 24 25 26 27 28\n",
      "29 30 31\n",
      "\n"
     ]
    }
   ],
   "source": [
    "import calendar\n",
    "Year = int(input(\"Enter the year \"))\n",
    "Month = int(input(\"Enter the month\"))\n",
    "print(calendar.month(Year,Month))"
   ]
  },
  {
   "cell_type": "markdown",
   "id": "28a9ee7a",
   "metadata": {},
   "source": [
    "4.\tWrite a Python program to solve quadratic equation?"
   ]
  },
  {
   "cell_type": "code",
   "execution_count": 59,
   "id": "d2e340c6",
   "metadata": {},
   "outputs": [
    {
     "name": "stdout",
     "output_type": "stream",
     "text": [
      "Enter the coefficient of x^2 with sign 1\n",
      "Enter the coefficient of x^1 with sign 4\n",
      "Enter the coefficient of x^0 with sign 4\n",
      "The Quadratic Equation is 1.0x^2 4.0x^1 4.0\n",
      "Discrimnant: 0.0 \n",
      "The roots of given quadratic equation is -2.0 -2.0 \n"
     ]
    }
   ],
   "source": [
    "import math \n",
    "a = float(input(\"Enter the coefficient of x^2 with sign \"))\n",
    "b = float(input(\"Enter the coefficient of x^1 with sign \"))\n",
    "c = float(input(\"Enter the coefficient of x^0 with sign \"))\n",
    "print(\"The Quadratic Equation is \" \"{}x^2\".format(a) + \" {}x^1\".format(b) + \" {}\".format(c))\n",
    "d = (b**2 - 4*a*c)\n",
    "print(\"Discrimnant: {} \".format(d))\n",
    "if d >= 0:\n",
    "    root_1 = ((-b)+ math.sqrt(d))/(2*a)\n",
    "    root_2 = ((-b) - math.sqrt(d))/(2*a)\n",
    "    print(\"The roots of given quadratic equation is {} {} \". format(root_1,root_2))\n",
    "else:\n",
    "    print(\"Roots are imaginary\")"
   ]
  },
  {
   "cell_type": "markdown",
   "id": "8bc317de",
   "metadata": {},
   "source": [
    "5.\tWrite a Python program to swap two variables without temp variable?"
   ]
  },
  {
   "cell_type": "code",
   "execution_count": 67,
   "id": "58c6a283",
   "metadata": {},
   "outputs": [
    {
     "name": "stdout",
     "output_type": "stream",
     "text": [
      "4\n",
      "2\n"
     ]
    }
   ],
   "source": [
    "a = 2; b = 4\n",
    "a,b = b,a\n",
    "print(a)\n",
    "print(b)"
   ]
  },
  {
   "cell_type": "code",
   "execution_count": null,
   "id": "b921c0ce",
   "metadata": {},
   "outputs": [],
   "source": []
  }
 ],
 "metadata": {
  "kernelspec": {
   "display_name": "Python 3 (ipykernel)",
   "language": "python",
   "name": "python3"
  },
  "language_info": {
   "codemirror_mode": {
    "name": "ipython",
    "version": 3
   },
   "file_extension": ".py",
   "mimetype": "text/x-python",
   "name": "python",
   "nbconvert_exporter": "python",
   "pygments_lexer": "ipython3",
   "version": "3.9.7"
  }
 },
 "nbformat": 4,
 "nbformat_minor": 5
}
