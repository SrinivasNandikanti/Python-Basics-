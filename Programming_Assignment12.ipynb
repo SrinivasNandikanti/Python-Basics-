{
 "cells": [
  {
   "cell_type": "code",
   "execution_count": 1,
   "id": "7a35ce6a",
   "metadata": {},
   "outputs": [],
   "source": [
    "#1.\tWrite a Python program to Extract Unique values dictionary values?"
   ]
  },
  {
   "cell_type": "code",
   "execution_count": 12,
   "id": "e5629632",
   "metadata": {},
   "outputs": [],
   "source": [
    "def dic_unique(d):\n",
    "    l = list(d.values())\n",
    "    for i in l:\n",
    "        if l.count(i)==1:\n",
    "            print(i)"
   ]
  },
  {
   "cell_type": "code",
   "execution_count": 14,
   "id": "195afab8",
   "metadata": {},
   "outputs": [
    {
     "name": "stdout",
     "output_type": "stream",
     "text": [
      "Nandi\n",
      "Dell\n",
      "Hyderabad\n",
      "VMWare\n"
     ]
    }
   ],
   "source": [
    "d = {1:\"Srinivas\",2:\"Nandi\",3:\"Srinivas\",4:\"Dell\",5:\"Hyderabad\",6:\"Srinivas\",7:\"EMC\",8:\"VMWare\",9:\"EMC\"}\n",
    "dic_unique(d)"
   ]
  },
  {
   "cell_type": "code",
   "execution_count": 15,
   "id": "0e2b1974",
   "metadata": {},
   "outputs": [],
   "source": [
    "#2.\tWrite a Python program to find the sum of all items in a dictionary?"
   ]
  },
  {
   "cell_type": "code",
   "execution_count": 28,
   "id": "5c8c46c8",
   "metadata": {},
   "outputs": [
    {
     "name": "stdout",
     "output_type": "stream",
     "text": [
      "44\n"
     ]
    }
   ],
   "source": [
    "d = {1:'Srinivas',2:4,3:9,4:16,5:\"Nandi\"}\n",
    "l = list(d.keys())\n",
    "m = list(d.values())\n",
    "l.extend(m)\n",
    "sum = 0\n",
    "for i in l:\n",
    "    if type(i) == int:\n",
    "        sum += i\n",
    "print(sum)"
   ]
  },
  {
   "cell_type": "code",
   "execution_count": 29,
   "id": "80829439",
   "metadata": {},
   "outputs": [],
   "source": [
    "#3.\tWrite a Python program to Merging two Dictionaries?"
   ]
  },
  {
   "cell_type": "code",
   "execution_count": 31,
   "id": "9511610e",
   "metadata": {},
   "outputs": [],
   "source": [
    "d1 = {1:\"Srinivas\",2:4,3:9,4:16,5:\"Nandi\"}\n",
    "d2 = {6:\"Srinivas\",7:\"Nandi\",8:\"Srinivas\",9:\"Dell\",10:\"Hyderabad\",11:\"Srinivas\",12:\"EMC\",13:\"VMWare\",14:\"EMC\"}"
   ]
  },
  {
   "cell_type": "code",
   "execution_count": 43,
   "id": "60c91de0",
   "metadata": {},
   "outputs": [],
   "source": [
    "def dict_merg(d1,d2):\n",
    "    l = list(d1.items())\n",
    "    m = list(d2.items())\n",
    "    l.extend(m)\n",
    "    l\n",
    "    n = dict(l)\n",
    "    return n"
   ]
  },
  {
   "cell_type": "code",
   "execution_count": 44,
   "id": "e6ff6fee",
   "metadata": {},
   "outputs": [
    {
     "data": {
      "text/plain": [
       "{1: 'Srinivas',\n",
       " 2: 4,\n",
       " 3: 9,\n",
       " 4: 16,\n",
       " 5: 'Nandi',\n",
       " 6: 'Srinivas',\n",
       " 7: 'Nandi',\n",
       " 8: 'Srinivas',\n",
       " 9: 'Dell',\n",
       " 10: 'Hyderabad',\n",
       " 11: 'Srinivas',\n",
       " 12: 'EMC',\n",
       " 13: 'VMWare',\n",
       " 14: 'EMC'}"
      ]
     },
     "execution_count": 44,
     "metadata": {},
     "output_type": "execute_result"
    }
   ],
   "source": [
    "dict_merg(d1,d2)"
   ]
  },
  {
   "cell_type": "code",
   "execution_count": 46,
   "id": "cf7743e9",
   "metadata": {},
   "outputs": [],
   "source": [
    "#4.\tWrite a Python program to convert key-values list to flat dictionary?\n",
    "#The original dictionary is \n",
    "d =  {'name': ['Jan', 'Feb', 'March'], 'month': [1, 2, 3]}\n",
    "#Flattened dictionary : {1: ‘Jan’, 2: ‘Feb’, 3: ‘March’}"
   ]
  },
  {
   "cell_type": "code",
   "execution_count": 69,
   "id": "e0b4e504",
   "metadata": {},
   "outputs": [
    {
     "data": {
      "text/plain": [
       "{1: 'Jan', 2: 'Feb', 3: 'March'}"
      ]
     },
     "execution_count": 69,
     "metadata": {},
     "output_type": "execute_result"
    }
   ],
   "source": [
    "t = dict(zip(d['month'],d['name']))\n",
    "t"
   ]
  },
  {
   "cell_type": "code",
   "execution_count": null,
   "id": "2d9c3d69",
   "metadata": {},
   "outputs": [],
   "source": [
    "#5.\tWrite a Python program to insertion at the beginning in OrderedDict?"
   ]
  },
  {
   "cell_type": "code",
   "execution_count": 6,
   "id": "c81865a8",
   "metadata": {},
   "outputs": [
    {
     "data": {
      "text/plain": [
       "OrderedDict([('3', 'Dell'), ('1', 'Srinivas'), ('2', 'Nandikanti')])"
      ]
     },
     "execution_count": 6,
     "metadata": {},
     "output_type": "execute_result"
    }
   ],
   "source": [
    "from collections import OrderedDict\n",
    "od = OrderedDict([(\"1\",\"Srinivas\"),(\"2\",\"Nandikanti\")])\n",
    "od.update({\"3\":\"Dell\"})\n",
    "od.move_to_end('3',last =False)\n",
    "od"
   ]
  },
  {
   "cell_type": "code",
   "execution_count": null,
   "id": "7cfb37a4",
   "metadata": {},
   "outputs": [],
   "source": [
    "#6.\tWrite a Python program to check order of character in string using OrderedDict()?"
   ]
  },
  {
   "cell_type": "code",
   "execution_count": 11,
   "id": "c7947f23",
   "metadata": {},
   "outputs": [
    {
     "name": "stdout",
     "output_type": "stream",
     "text": [
      "true\n"
     ]
    }
   ],
   "source": [
    "from collections import OrderedDict \n",
    "  \n",
    "def checkOrder(input, pattern): \n",
    "    dict = OrderedDict.fromkeys(input) \n",
    "    ptrlen = 0\n",
    "    for key,value in dict.items(): \n",
    "        if (key == pattern[ptrlen]): \n",
    "            ptrlen = ptrlen + 1\n",
    "        if (ptrlen == (len(pattern))): \n",
    "            return 'true'\n",
    "    return 'false'\n",
    "  \n",
    "# Driver program \n",
    "if __name__ == \"__main__\": \n",
    "    input = 'engineers rock'\n",
    "    pattern = 'er'\n",
    "    print (checkOrder(input,pattern)) "
   ]
  },
  {
   "cell_type": "code",
   "execution_count": 4,
   "id": "0476ef26",
   "metadata": {},
   "outputs": [],
   "source": [
    "#7.\tWrite a Python program to sort Python Dictionaries by Key or Value?"
   ]
  },
  {
   "cell_type": "code",
   "execution_count": 26,
   "id": "4e3cafdf",
   "metadata": {},
   "outputs": [],
   "source": [
    "d = {2:64,1:69,4:23,5:65,6:34,3:76}\n",
    "def dict_sort_key(d):\n",
    "    k = list(d.items())\n",
    "    k.sort()\n",
    "    return k\n",
    "def dict_sort_value(d):\n",
    "    v = list(d.items())\n",
    "    v.sort(key = lambda x:x[1])\n",
    "    return v"
   ]
  },
  {
   "cell_type": "code",
   "execution_count": 28,
   "id": "dac04a2d",
   "metadata": {},
   "outputs": [
    {
     "data": {
      "text/plain": [
       "[(4, 23), (6, 34), (2, 64), (5, 65), (1, 69), (3, 76)]"
      ]
     },
     "execution_count": 28,
     "metadata": {},
     "output_type": "execute_result"
    }
   ],
   "source": [
    "dict_sort_key(d)\n",
    "dict_sort_value(d)"
   ]
  },
  {
   "cell_type": "code",
   "execution_count": null,
   "id": "b25c0888",
   "metadata": {},
   "outputs": [],
   "source": []
  }
 ],
 "metadata": {
  "kernelspec": {
   "display_name": "Python 3 (ipykernel)",
   "language": "python",
   "name": "python3"
  },
  "language_info": {
   "codemirror_mode": {
    "name": "ipython",
    "version": 3
   },
   "file_extension": ".py",
   "mimetype": "text/x-python",
   "name": "python",
   "nbconvert_exporter": "python",
   "pygments_lexer": "ipython3",
   "version": "3.9.7"
  }
 },
 "nbformat": 4,
 "nbformat_minor": 5
}
