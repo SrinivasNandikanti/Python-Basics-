{
 "cells": [
  {
   "cell_type": "code",
   "execution_count": 7,
   "id": "4a0b264b",
   "metadata": {},
   "outputs": [],
   "source": [
    "#1.\tWrite a Python program to find sum of elements in list?\n"
   ]
  },
  {
   "cell_type": "code",
   "execution_count": 10,
   "id": "d515ef53",
   "metadata": {},
   "outputs": [],
   "source": [
    "def list_sum(l):\n",
    "    sum = 0\n",
    "    for i in l:\n",
    "        sum += i\n",
    "    return sum"
   ]
  },
  {
   "cell_type": "code",
   "execution_count": 8,
   "id": "2b67f480",
   "metadata": {},
   "outputs": [
    {
     "data": {
      "text/plain": [
       "15"
      ]
     },
     "execution_count": 8,
     "metadata": {},
     "output_type": "execute_result"
    }
   ],
   "source": [
    "list_sum([1,2,3,4,5])"
   ]
  },
  {
   "cell_type": "code",
   "execution_count": 9,
   "id": "f24055a1",
   "metadata": {},
   "outputs": [],
   "source": [
    "#2.\tWrite a Python program to  Multiply all numbers in the list?"
   ]
  },
  {
   "cell_type": "code",
   "execution_count": 11,
   "id": "ad36452c",
   "metadata": {},
   "outputs": [],
   "source": [
    "def list_mul(l):\n",
    "    mul = 1\n",
    "    for i in l :\n",
    "        mul *=i\n",
    "    return mul"
   ]
  },
  {
   "cell_type": "code",
   "execution_count": 12,
   "id": "a15abef7",
   "metadata": {},
   "outputs": [
    {
     "data": {
      "text/plain": [
       "24"
      ]
     },
     "execution_count": 12,
     "metadata": {},
     "output_type": "execute_result"
    }
   ],
   "source": [
    "list_mul([1,2,3,4])"
   ]
  },
  {
   "cell_type": "code",
   "execution_count": 13,
   "id": "5c1c73a2",
   "metadata": {},
   "outputs": [],
   "source": [
    "#3.\tWrite a Python program to find smallest number in a list?"
   ]
  },
  {
   "cell_type": "code",
   "execution_count": 20,
   "id": "982eb484",
   "metadata": {},
   "outputs": [],
   "source": [
    "def list_small(l):\n",
    "    a = min(l)\n",
    "    return a"
   ]
  },
  {
   "cell_type": "code",
   "execution_count": 22,
   "id": "0cf7ba84",
   "metadata": {},
   "outputs": [
    {
     "data": {
      "text/plain": [
       "-1"
      ]
     },
     "execution_count": 22,
     "metadata": {},
     "output_type": "execute_result"
    }
   ],
   "source": [
    "list_small([1,2,3,-1])"
   ]
  },
  {
   "cell_type": "code",
   "execution_count": 23,
   "id": "d496ff72",
   "metadata": {},
   "outputs": [],
   "source": [
    "#4.\tWrite a Python program to find largest number in a list?"
   ]
  },
  {
   "cell_type": "code",
   "execution_count": 24,
   "id": "acd2debf",
   "metadata": {},
   "outputs": [],
   "source": [
    "def list_largest(l):\n",
    "    a = max(l)\n",
    "    return a"
   ]
  },
  {
   "cell_type": "code",
   "execution_count": 27,
   "id": "4d746ecf",
   "metadata": {},
   "outputs": [
    {
     "data": {
      "text/plain": [
       "67"
      ]
     },
     "execution_count": 27,
     "metadata": {},
     "output_type": "execute_result"
    }
   ],
   "source": [
    "list_largest([1,4,5,67])"
   ]
  },
  {
   "cell_type": "code",
   "execution_count": 29,
   "id": "630e5629",
   "metadata": {},
   "outputs": [],
   "source": [
    "#5.\tWrite a Python program to find second largest number in a list?"
   ]
  },
  {
   "cell_type": "code",
   "execution_count": 30,
   "id": "0af63adc",
   "metadata": {},
   "outputs": [],
   "source": [
    "def list_sec_lar(l):\n",
    "    s = set(l)\n",
    "    s.remove(max(s))\n",
    "    a = max(s)\n",
    "    return a"
   ]
  },
  {
   "cell_type": "code",
   "execution_count": 35,
   "id": "5af5494d",
   "metadata": {},
   "outputs": [
    {
     "data": {
      "text/plain": [
       "4.5"
      ]
     },
     "execution_count": 35,
     "metadata": {},
     "output_type": "execute_result"
    }
   ],
   "source": [
    "list_sec_lar([1,2,2,4, 4,4.5,5,5])"
   ]
  },
  {
   "cell_type": "code",
   "execution_count": 36,
   "id": "c29db05f",
   "metadata": {},
   "outputs": [],
   "source": [
    "#6.\tWrite a Python program to find N largest elements from a list?"
   ]
  },
  {
   "cell_type": "code",
   "execution_count": 37,
   "id": "7f6f31b8",
   "metadata": {},
   "outputs": [],
   "source": [
    "def N_lar(l,n):\n",
    "    if type(l)==list:\n",
    "        a = sorted(l,reverse = True)\n",
    "    return a[:n]"
   ]
  },
  {
   "cell_type": "code",
   "execution_count": 39,
   "id": "f255d772",
   "metadata": {},
   "outputs": [
    {
     "data": {
      "text/plain": [
       "[96, 81, 52]"
      ]
     },
     "execution_count": 39,
     "metadata": {},
     "output_type": "execute_result"
    }
   ],
   "source": [
    "N_lar([81, 52, 45, 10, 3, 2, 96],3)"
   ]
  },
  {
   "cell_type": "code",
   "execution_count": 40,
   "id": "5c1ae4bf",
   "metadata": {},
   "outputs": [],
   "source": [
    "#7.\tWrite a Python program to print even numbers in a list?"
   ]
  },
  {
   "cell_type": "code",
   "execution_count": 45,
   "id": "f3293d69",
   "metadata": {},
   "outputs": [],
   "source": [
    "def list_even(l):\n",
    "    k= []\n",
    "    for i in l:\n",
    "        if i%2 ==0:\n",
    "            k.append(i)\n",
    "    return k"
   ]
  },
  {
   "cell_type": "code",
   "execution_count": 46,
   "id": "336ee3bc",
   "metadata": {},
   "outputs": [
    {
     "data": {
      "text/plain": [
       "[2, 4, 6, 8, 10]"
      ]
     },
     "execution_count": 46,
     "metadata": {},
     "output_type": "execute_result"
    }
   ],
   "source": [
    "list_even([2,4,6,8,10,11,13,15])"
   ]
  },
  {
   "cell_type": "code",
   "execution_count": 47,
   "id": "c11549f7",
   "metadata": {},
   "outputs": [],
   "source": [
    "#8.\tWrite a Python program to print odd numbers in a List?"
   ]
  },
  {
   "cell_type": "code",
   "execution_count": 48,
   "id": "d7f3df3b",
   "metadata": {},
   "outputs": [],
   "source": [
    "def list_odd(l):\n",
    "    k= []\n",
    "    for i in l:\n",
    "        if i%2 !=0:\n",
    "            k.append(i)\n",
    "    return k"
   ]
  },
  {
   "cell_type": "code",
   "execution_count": 49,
   "id": "c63f0fa7",
   "metadata": {},
   "outputs": [
    {
     "data": {
      "text/plain": [
       "[11, 13, 15]"
      ]
     },
     "execution_count": 49,
     "metadata": {},
     "output_type": "execute_result"
    }
   ],
   "source": [
    "list_odd([2,4,6,8,10,11,13,15])"
   ]
  },
  {
   "cell_type": "code",
   "execution_count": 50,
   "id": "4c561db7",
   "metadata": {},
   "outputs": [],
   "source": [
    "#9.\tWrite a Python program to Remove empty List from List?"
   ]
  },
  {
   "cell_type": "code",
   "execution_count": 66,
   "id": "c98c631d",
   "metadata": {},
   "outputs": [],
   "source": [
    "def list_empty(l):\n",
    "    k = []\n",
    "    m = []\n",
    "    n = []\n",
    "    for i in l:\n",
    "        if type(i)==list and len(i)==0:\n",
    "            k.append(l.index(i))\n",
    "        else:\n",
    "            m.append(l.index(i))\n",
    "    for i in m:\n",
    "        n.append(l[i])\n",
    "    return n"
   ]
  },
  {
   "cell_type": "code",
   "execution_count": 70,
   "id": "35f1e5ec",
   "metadata": {},
   "outputs": [
    {
     "data": {
      "text/plain": [
       "[1, 2, 'sri', 3.4, [1, 23, 4], (1, 2, 3), {'k1': 'srinivas', 'k2': 12323}]"
      ]
     },
     "execution_count": 70,
     "metadata": {},
     "output_type": "execute_result"
    }
   ],
   "source": [
    "list_empty([1,2,'sri',3.4,[1,23,4],[],[],[],(1,2,3),{\"k1\":'srinivas',\"k2\":12323},[]])"
   ]
  },
  {
   "cell_type": "code",
   "execution_count": 71,
   "id": "6d8fe27d",
   "metadata": {},
   "outputs": [],
   "source": [
    "#10.\tWrite a Python program to Cloning or Copying a list?"
   ]
  },
  {
   "cell_type": "code",
   "execution_count": 72,
   "id": "27d774f6",
   "metadata": {},
   "outputs": [],
   "source": [
    "def list_copy(l):\n",
    "    a = l[:]\n",
    "    return a"
   ]
  },
  {
   "cell_type": "code",
   "execution_count": 73,
   "id": "260410c7",
   "metadata": {},
   "outputs": [
    {
     "data": {
      "text/plain": [
       "[1,\n",
       " 2,\n",
       " 'sri',\n",
       " 3.4,\n",
       " [1, 23, 4],\n",
       " [],\n",
       " [],\n",
       " [],\n",
       " (1, 2, 3),\n",
       " {'k1': 'srinivas', 'k2': 12323},\n",
       " []]"
      ]
     },
     "execution_count": 73,
     "metadata": {},
     "output_type": "execute_result"
    }
   ],
   "source": [
    "list_copy([1,2,'sri',3.4,[1,23,4],[],[],[],(1,2,3),{\"k1\":'srinivas',\"k2\":12323},[]])"
   ]
  },
  {
   "cell_type": "code",
   "execution_count": 74,
   "id": "a13866f4",
   "metadata": {},
   "outputs": [],
   "source": [
    "#11.\tWrite a Python program to Count occurrences of an element in a list?"
   ]
  },
  {
   "cell_type": "code",
   "execution_count": 75,
   "id": "212178b1",
   "metadata": {},
   "outputs": [],
   "source": [
    "def list_count(l):\n",
    "    for i in l:\n",
    "        print(i, l.count(i))\n",
    "        "
   ]
  },
  {
   "cell_type": "code",
   "execution_count": 76,
   "id": "dde1484a",
   "metadata": {},
   "outputs": [
    {
     "name": "stdout",
     "output_type": "stream",
     "text": [
      "1 1\n",
      "2 2\n",
      "2 2\n",
      "3 4\n",
      "3 4\n",
      "3 4\n",
      "3 4\n",
      "4 2\n",
      "4 2\n",
      "5 4\n",
      "5 4\n",
      "5 4\n",
      "5 4\n",
      "6 3\n",
      "6 3\n",
      "6 3\n",
      "7 1\n",
      "77 1\n"
     ]
    }
   ],
   "source": [
    "list_count([1,2,2,3,3,3,3,4,4,5,5,5,5,6,6,6,7,77])"
   ]
  },
  {
   "cell_type": "code",
   "execution_count": null,
   "id": "22209f08",
   "metadata": {},
   "outputs": [],
   "source": []
  }
 ],
 "metadata": {
  "kernelspec": {
   "display_name": "Python 3 (ipykernel)",
   "language": "python",
   "name": "python3"
  },
  "language_info": {
   "codemirror_mode": {
    "name": "ipython",
    "version": 3
   },
   "file_extension": ".py",
   "mimetype": "text/x-python",
   "name": "python",
   "nbconvert_exporter": "python",
   "pygments_lexer": "ipython3",
   "version": "3.9.7"
  }
 },
 "nbformat": 4,
 "nbformat_minor": 5
}
