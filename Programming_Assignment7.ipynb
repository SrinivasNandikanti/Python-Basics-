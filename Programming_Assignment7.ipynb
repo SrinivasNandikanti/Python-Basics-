{
 "cells": [
  {
   "cell_type": "markdown",
   "id": "f0582796",
   "metadata": {},
   "source": [
    "1.\tWrite a Python Program to find sum of array?"
   ]
  },
  {
   "cell_type": "code",
   "execution_count": 6,
   "id": "5460ce07",
   "metadata": {},
   "outputs": [
    {
     "name": "stdout",
     "output_type": "stream",
     "text": [
      "Enter an arrray1,2,3\n"
     ]
    },
    {
     "data": {
      "text/plain": [
       "6"
      ]
     },
     "execution_count": 6,
     "metadata": {},
     "output_type": "execute_result"
    }
   ],
   "source": [
    "a = (input(\"Enter an arrray\"))\n",
    "b = a.split(\",\")\n",
    "c = [int(i) for i in b]\n",
    "d = sum(c)\n",
    "d"
   ]
  },
  {
   "cell_type": "markdown",
   "id": "a258d067",
   "metadata": {},
   "source": [
    "2.\tWrite a Python Program to find largest element in an array?"
   ]
  },
  {
   "cell_type": "code",
   "execution_count": null,
   "id": "47e73c18",
   "metadata": {},
   "outputs": [],
   "source": [
    "2.\tWrite a Python Program to find largest element in an array"
   ]
  },
  {
   "cell_type": "code",
   "execution_count": 8,
   "id": "f4eb7729",
   "metadata": {},
   "outputs": [
    {
     "name": "stdout",
     "output_type": "stream",
     "text": [
      "Enter an arrray34,56,21\n"
     ]
    },
    {
     "data": {
      "text/plain": [
       "56"
      ]
     },
     "execution_count": 8,
     "metadata": {},
     "output_type": "execute_result"
    }
   ],
   "source": [
    "a = (input(\"Enter an arrray\"))\n",
    "b = a.split(\",\")\n",
    "c = [int(i) for i in b]\n",
    "c.sort()\n",
    "c[-1]"
   ]
  },
  {
   "cell_type": "markdown",
   "id": "96879cd5",
   "metadata": {},
   "source": [
    "3.\tWrite a Python Program for array rotation?"
   ]
  },
  {
   "cell_type": "code",
   "execution_count": 9,
   "id": "d118f9ab",
   "metadata": {},
   "outputs": [
    {
     "name": "stdout",
     "output_type": "stream",
     "text": [
      "Enter an arrray1,2,3,4\n"
     ]
    },
    {
     "data": {
      "text/plain": [
       "[4, 3, 2, 1]"
      ]
     },
     "execution_count": 9,
     "metadata": {},
     "output_type": "execute_result"
    }
   ],
   "source": [
    "a = (input(\"Enter an arrray\"))\n",
    "b = a.split(\",\")\n",
    "c = [int(i) for i in b]\n",
    "c[::-1]"
   ]
  },
  {
   "cell_type": "markdown",
   "id": "6bb6d243",
   "metadata": {},
   "source": [
    "4.\tWrite a Python Program to Split the array and add the first part to the end?"
   ]
  },
  {
   "cell_type": "code",
   "execution_count": 14,
   "id": "f25ba224",
   "metadata": {},
   "outputs": [
    {
     "name": "stdout",
     "output_type": "stream",
     "text": [
      "Enter an arrray1,2,3\n"
     ]
    },
    {
     "data": {
      "text/plain": [
       "[2, 3, 1]"
      ]
     },
     "execution_count": 14,
     "metadata": {},
     "output_type": "execute_result"
    }
   ],
   "source": [
    "a = (input(\"Enter an arrray\"))\n",
    "b = a.split(\",\")\n",
    "c = [int(i) for i in b]\n",
    "d = c[:int(len(c)/2)]\n",
    "e = c[int(len(c)/2):]\n",
    "e.extend(d)\n",
    "e"
   ]
  },
  {
   "cell_type": "markdown",
   "id": "2cabe70a",
   "metadata": {},
   "source": [
    "5.\tWrite a Python Program to check if given array is Monotonic?"
   ]
  },
  {
   "cell_type": "code",
   "execution_count": 15,
   "id": "16d05638",
   "metadata": {},
   "outputs": [
    {
     "name": "stdout",
     "output_type": "stream",
     "text": [
      "Enter an arrray6, 5, 4, 4\n",
      "True\n"
     ]
    }
   ],
   "source": [
    "a = (input(\"Enter an arrray\"))\n",
    "b = a.split(\",\")\n",
    "c = [int(i) for i in b]\n",
    "print(all(c[i] <= c[i + 1] for i in range(len(c) - 1)) or\n",
    "            all(c[i] >= c[i + 1] for i in range(len(c) - 1)))"
   ]
  },
  {
   "cell_type": "code",
   "execution_count": null,
   "id": "50845a2d",
   "metadata": {},
   "outputs": [],
   "source": []
  }
 ],
 "metadata": {
  "kernelspec": {
   "display_name": "Python 3 (ipykernel)",
   "language": "python",
   "name": "python3"
  },
  "language_info": {
   "codemirror_mode": {
    "name": "ipython",
    "version": 3
   },
   "file_extension": ".py",
   "mimetype": "text/x-python",
   "name": "python",
   "nbconvert_exporter": "python",
   "pygments_lexer": "ipython3",
   "version": "3.9.7"
  }
 },
 "nbformat": 4,
 "nbformat_minor": 5
}
