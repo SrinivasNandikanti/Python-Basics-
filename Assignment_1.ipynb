{
 "cells": [
  {
   "cell_type": "markdown",
   "id": "cec3f0e9",
   "metadata": {},
   "source": [
    "1. In the below elements which of them are values or an expression? eg:- values can be integer or string and expressions will be mathematical operators.\n",
    "\n",
    "'hello',  -87.8,  - , / , +\t, 6 , * \n"
   ]
  },
  {
   "cell_type": "markdown",
   "id": "b7c90c54",
   "metadata": {},
   "source": [
    "Values: 'hello', -87.8, 6\n",
    "expressions: - , /, +, *"
   ]
  },
  {
   "cell_type": "markdown",
   "id": "39200a57",
   "metadata": {},
   "source": [
    "2. What is the difference between string and variable?"
   ]
  },
  {
   "cell_type": "markdown",
   "id": "27db56a6",
   "metadata": {},
   "source": [
    "A string is one type of data type defining the variable class. Its generally have sequence of unicde characters.\n",
    "Variable is just location name in a memory to store some data(value)"
   ]
  },
  {
   "cell_type": "markdown",
   "id": "ac998542",
   "metadata": {},
   "source": [
    "3. Describe three different data types."
   ]
  },
  {
   "cell_type": "markdown",
   "id": "d50341e0",
   "metadata": {},
   "source": [
    "Some of the data types are:\n",
    "    1. Numbers: Weather integer, floating or complex \n",
    "    2. Strings: It is ordered sequence of unicode characters - letters, numbers & special characters. These are immutable\n",
    "    3. Lists: An ordered squence of items. They are Mutable.\n",
    "    4. Tuples: An ordered squence of items but immutable\n",
    "    5. Sets: Unordered collection of unique items. They are mutable\n",
    "    6. Dictionaries: Unordered collection of key - value pairs. Thy are mutable\n",
    "    7. Boolean: Represents the truth values - True or False"
   ]
  },
  {
   "cell_type": "markdown",
   "id": "f37476e0",
   "metadata": {},
   "source": [
    "4. What is an expression made up of? What do all expressions do?"
   ]
  },
  {
   "cell_type": "markdown",
   "id": "348cf54f",
   "metadata": {},
   "source": [
    "An expression is made up of operators such as Arithmetic, Comparison, Logical, Bitwise etc. \n",
    "All the expression always evalutes to a value"
   ]
  },
  {
   "cell_type": "markdown",
   "id": "9cf0e476",
   "metadata": {},
   "source": [
    "5. This assignment statements, like spam = 10. What is the difference between an expression and a statement?"
   ]
  },
  {
   "cell_type": "markdown",
   "id": "589656b5",
   "metadata": {},
   "source": [
    "spam = 10 is a statement where 10 is assigned to variable to 10. Upon executing this statement, it will change the state. \n",
    "\n",
    "Main difference:\n",
    "    Expression: Doesnt change the state. It always returns or produces result value\n",
    "    Statement: Does change the state. It may or may not give the output"
   ]
  },
  {
   "cell_type": "markdown",
   "id": "df08e6ce",
   "metadata": {},
   "source": [
    "6. After running the following code, what does the variable bacon contain?\n",
    "bacon = 22\n",
    "bacon + 1\n"
   ]
  },
  {
   "cell_type": "markdown",
   "id": "3f211258",
   "metadata": {},
   "source": [
    "bacon = 22 is the statement;\n",
    "bacon + 1 is the expression;\n",
    "\n",
    "Since we know that expression doesnt change the state, value of bacon is still 22"
   ]
  },
  {
   "cell_type": "markdown",
   "id": "f6371834",
   "metadata": {},
   "source": [
    "7. What should the values of the following two terms be?\n",
    "'spam' + 'spamspam'\n",
    "'spam' * 3\n"
   ]
  },
  {
   "cell_type": "markdown",
   "id": "8aad1603",
   "metadata": {},
   "source": [
    "The output is the same 'spamspamspam'"
   ]
  },
  {
   "cell_type": "markdown",
   "id": "3a9558cd",
   "metadata": {},
   "source": [
    "8. Why is eggs a valid variable name while 100 is invalid?"
   ]
  },
  {
   "cell_type": "markdown",
   "id": "6d7b7458",
   "metadata": {},
   "source": [
    "A variable name cannt be started with a digit. Also we cannot use special characters such as !, @, #,$,% in the variable name. A variable name should be a combination of lower case, upper case, digits and underscore."
   ]
  },
  {
   "cell_type": "markdown",
   "id": "434d66a8",
   "metadata": {},
   "source": [
    "9. What three functions can be used to get the integer, floating-point number, or string version of a value?"
   ]
  },
  {
   "cell_type": "code",
   "execution_count": 16,
   "id": "c6ce8596",
   "metadata": {},
   "outputs": [
    {
     "data": {
      "text/plain": [
       "'2'"
      ]
     },
     "execution_count": 16,
     "metadata": {},
     "output_type": "execute_result"
    }
   ],
   "source": [
    " i = 2\n",
    "int(i)\n",
    "float(i)\n",
    "str(i)"
   ]
  },
  {
   "cell_type": "markdown",
   "id": "1abeb7d9",
   "metadata": {},
   "source": [
    "10. Why does this expression cause an error? How can you fix it?\n",
    "'I have eaten ' + 99 + ' burritos.'\n"
   ]
  },
  {
   "cell_type": "markdown",
   "id": "1825dd33",
   "metadata": {},
   "source": [
    "Because the expression is trying to add strings and integer which is not correct. We can fix the error as below:\n",
    "'I have eaten ' + '99' + ' burritos.'"
   ]
  }
 ],
 "metadata": {
  "kernelspec": {
   "display_name": "Python 3 (ipykernel)",
   "language": "python",
   "name": "python3"
  },
  "language_info": {
   "codemirror_mode": {
    "name": "ipython",
    "version": 3
   },
   "file_extension": ".py",
   "mimetype": "text/x-python",
   "name": "python",
   "nbconvert_exporter": "python",
   "pygments_lexer": "ipython3",
   "version": "3.9.7"
  }
 },
 "nbformat": 4,
 "nbformat_minor": 5
}
