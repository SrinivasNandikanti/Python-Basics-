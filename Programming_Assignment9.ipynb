{
 "cells": [
  {
   "cell_type": "code",
   "execution_count": 1,
   "id": "49319e0d",
   "metadata": {},
   "outputs": [],
   "source": [
    "#1.\tWrite a Python program to check if the given number is a Disarium Number?"
   ]
  },
  {
   "cell_type": "code",
   "execution_count": 15,
   "id": "2aa82f93",
   "metadata": {},
   "outputs": [
    {
     "name": "stdout",
     "output_type": "stream",
     "text": [
      "Enter a number to check whether it is a Disarium Number or Not: 89\n",
      "Given number 89 is a Disarium Number\n"
     ]
    }
   ],
   "source": [
    "a = int(input(\"Enter a number to check whether it is a Disarium Number or Not: \"))\n",
    "b = str(a)\n",
    "l=[]\n",
    "l.extend(b)\n",
    "sum = 0 \n",
    "for i in l:\n",
    "    c = l.index(i)\n",
    "    d= int(i)\n",
    "    sum += d**(c+1)\n",
    "if sum == a:\n",
    "    print(\"Given number {} is a Disarium Number\".format(a))\n",
    "else:\n",
    "    print(\"Given number {} is not a Disarium Number\".format(a))"
   ]
  },
  {
   "cell_type": "code",
   "execution_count": 12,
   "id": "0537b7b8",
   "metadata": {},
   "outputs": [],
   "source": [
    "#2.\tWrite a Python program to print all disarium numbers between 1 to 100?"
   ]
  },
  {
   "cell_type": "code",
   "execution_count": 14,
   "id": "fdbff64c",
   "metadata": {},
   "outputs": [
    {
     "name": "stdout",
     "output_type": "stream",
     "text": [
      "1\n",
      "2\n",
      "3\n",
      "4\n",
      "5\n",
      "6\n",
      "7\n",
      "8\n",
      "9\n",
      "89\n"
     ]
    }
   ],
   "source": [
    "for a in range(1,101):\n",
    "    b = str(a)\n",
    "    l=[]\n",
    "    l.extend(b)\n",
    "    sum = 0 \n",
    "    for i in l:\n",
    "        c = l.index(i)\n",
    "        d= int(i)\n",
    "        sum += d**(c+1)\n",
    "    if sum == a:\n",
    "        print(a)"
   ]
  },
  {
   "cell_type": "code",
   "execution_count": 16,
   "id": "8cc49c4d",
   "metadata": {},
   "outputs": [],
   "source": [
    "#3.\tWrite a Python program to check if the given number is Happy Number?"
   ]
  },
  {
   "cell_type": "code",
   "execution_count": 143,
   "id": "e3999a49",
   "metadata": {},
   "outputs": [],
   "source": [
    "def happy(a):\n",
    "    b = str(a)\n",
    "    l=[]\n",
    "    l.extend(b)\n",
    "    s = 0 \n",
    "    for i in l:\n",
    "        d= int(i)\n",
    "        s += d**2\n",
    "    if s<=9:\n",
    "        if s==1:\n",
    "            print(\"Given number is a Happy Number\")\n",
    "        else:\n",
    "            print(\"Given number is not a Happy Number\")\n",
    "    else:\n",
    "        happy(s)"
   ]
  },
  {
   "cell_type": "code",
   "execution_count": 145,
   "id": "b1506e33",
   "metadata": {},
   "outputs": [
    {
     "name": "stdout",
     "output_type": "stream",
     "text": [
      "Given number is a Happy Number\n"
     ]
    }
   ],
   "source": [
    "happy(28)"
   ]
  },
  {
   "cell_type": "code",
   "execution_count": 15,
   "id": "7680eba5",
   "metadata": {},
   "outputs": [],
   "source": [
    "#4.\tWrite a Python program to print all happy numbers between 1 and 100?"
   ]
  },
  {
   "cell_type": "code",
   "execution_count": 10,
   "id": "5888f9b8",
   "metadata": {},
   "outputs": [
    {
     "name": "stdout",
     "output_type": "stream",
     "text": [
      "1\n",
      " is a Happy Number\n",
      "2\n",
      "is not a Happy Number\n",
      "3\n",
      "is not a Happy Number\n",
      "4\n",
      "is not a Happy Number\n",
      "5\n",
      "is not a Happy Number\n",
      "6\n",
      "is not a Happy Number\n",
      "7\n",
      " is a Happy Number\n",
      "8\n",
      "is not a Happy Number\n",
      "9\n",
      "is not a Happy Number\n",
      "10\n",
      " is a Happy Number\n",
      "11\n",
      "is not a Happy Number\n",
      "12\n",
      "is not a Happy Number\n",
      "13\n",
      " is a Happy Number\n",
      "14\n",
      "is not a Happy Number\n",
      "15\n",
      "is not a Happy Number\n",
      "16\n",
      "is not a Happy Number\n",
      "17\n",
      "is not a Happy Number\n",
      "18\n",
      "is not a Happy Number\n",
      "19\n",
      " is a Happy Number\n",
      "20\n",
      "is not a Happy Number\n",
      "21\n",
      "is not a Happy Number\n",
      "22\n",
      "is not a Happy Number\n",
      "23\n",
      " is a Happy Number\n",
      "24\n",
      "is not a Happy Number\n",
      "25\n",
      "is not a Happy Number\n",
      "26\n",
      "is not a Happy Number\n",
      "27\n",
      "is not a Happy Number\n",
      "28\n",
      " is a Happy Number\n",
      "29\n",
      "is not a Happy Number\n",
      "30\n",
      "is not a Happy Number\n",
      "31\n",
      " is a Happy Number\n",
      "32\n",
      " is a Happy Number\n",
      "33\n",
      "is not a Happy Number\n",
      "34\n",
      "is not a Happy Number\n",
      "35\n",
      "is not a Happy Number\n",
      "36\n",
      "is not a Happy Number\n",
      "37\n",
      "is not a Happy Number\n",
      "38\n",
      "is not a Happy Number\n",
      "39\n",
      "is not a Happy Number\n",
      "40\n",
      "is not a Happy Number\n",
      "41\n",
      "is not a Happy Number\n",
      "42\n",
      "is not a Happy Number\n",
      "43\n",
      "is not a Happy Number\n",
      "44\n",
      " is a Happy Number\n",
      "45\n",
      "is not a Happy Number\n",
      "46\n",
      "is not a Happy Number\n",
      "47\n",
      "is not a Happy Number\n",
      "48\n",
      "is not a Happy Number\n",
      "49\n",
      " is a Happy Number\n",
      "50\n",
      "is not a Happy Number\n",
      "51\n",
      "is not a Happy Number\n",
      "52\n",
      "is not a Happy Number\n",
      "53\n",
      "is not a Happy Number\n",
      "54\n",
      "is not a Happy Number\n",
      "55\n",
      "is not a Happy Number\n",
      "56\n",
      "is not a Happy Number\n",
      "57\n",
      "is not a Happy Number\n",
      "58\n",
      "is not a Happy Number\n",
      "59\n",
      "is not a Happy Number\n",
      "60\n",
      "is not a Happy Number\n",
      "61\n",
      "is not a Happy Number\n",
      "62\n",
      "is not a Happy Number\n",
      "63\n",
      "is not a Happy Number\n",
      "64\n",
      "is not a Happy Number\n",
      "65\n",
      "is not a Happy Number\n",
      "66\n",
      "is not a Happy Number\n",
      "67\n",
      "is not a Happy Number\n",
      "68\n",
      " is a Happy Number\n",
      "69\n",
      "is not a Happy Number\n",
      "70\n",
      " is a Happy Number\n",
      "71\n",
      "is not a Happy Number\n",
      "72\n",
      "is not a Happy Number\n",
      "73\n",
      "is not a Happy Number\n",
      "74\n",
      "is not a Happy Number\n",
      "75\n",
      "is not a Happy Number\n",
      "76\n",
      "is not a Happy Number\n",
      "77\n",
      "is not a Happy Number\n",
      "78\n",
      "is not a Happy Number\n",
      "79\n",
      " is a Happy Number\n",
      "80\n",
      "is not a Happy Number\n",
      "81\n",
      "is not a Happy Number\n",
      "82\n",
      " is a Happy Number\n",
      "83\n",
      "is not a Happy Number\n",
      "84\n",
      "is not a Happy Number\n",
      "85\n",
      "is not a Happy Number\n",
      "86\n",
      " is a Happy Number\n",
      "87\n",
      "is not a Happy Number\n",
      "88\n",
      "is not a Happy Number\n",
      "89\n",
      "is not a Happy Number\n",
      "90\n",
      "is not a Happy Number\n",
      "91\n",
      " is a Happy Number\n",
      "92\n",
      "is not a Happy Number\n",
      "93\n",
      "is not a Happy Number\n",
      "94\n",
      " is a Happy Number\n",
      "95\n",
      "is not a Happy Number\n",
      "96\n",
      "is not a Happy Number\n",
      "97\n",
      " is a Happy Number\n",
      "98\n",
      "is not a Happy Number\n",
      "99\n",
      "is not a Happy Number\n",
      "100\n",
      " is a Happy Number\n"
     ]
    }
   ],
   "source": [
    "for a in range(1,101):\n",
    "    def happy(a):\n",
    "        b = str(a)\n",
    "        l=[]\n",
    "        l.extend(b)\n",
    "        s = 0 \n",
    "        for i in l:\n",
    "            d= int(i)\n",
    "            s += d**2\n",
    "        if s<=9:\n",
    "            if s==1:\n",
    "                print(\" is a Happy Number\")\n",
    "            else:\n",
    "                print(\"is not a Happy Number\")\n",
    "        else:\n",
    "            happy(s)\n",
    "    print(a)\n",
    "    happy(a)   \n",
    "    "
   ]
  },
  {
   "cell_type": "code",
   "execution_count": 1,
   "id": "053794f5",
   "metadata": {},
   "outputs": [],
   "source": [
    "#5.\tWrite a Python program to determine whether the given number is a Harshad Number?"
   ]
  },
  {
   "cell_type": "code",
   "execution_count": 4,
   "id": "95b8b1bd",
   "metadata": {},
   "outputs": [
    {
     "name": "stdout",
     "output_type": "stream",
     "text": [
      "Enter a number: 6804\n",
      "Given number 6804 is a Harshad Number\n"
     ]
    }
   ],
   "source": [
    "a = int(input(\"Enter a number: \"))\n",
    "s = str(a)\n",
    "l = []\n",
    "l.extend(s)\n",
    "s = 0\n",
    "for i in l:\n",
    "    j = int(i)\n",
    "    s += j\n",
    "if a%s ==0:\n",
    "    print(\"Given number {} is a Harshad Number\".format(a))"
   ]
  },
  {
   "cell_type": "code",
   "execution_count": 5,
   "id": "07ceb456",
   "metadata": {},
   "outputs": [],
   "source": [
    "#6.\tWrite a Python program to print all pronic numbers between 1 and 100?"
   ]
  },
  {
   "cell_type": "code",
   "execution_count": 6,
   "id": "10625cf5",
   "metadata": {},
   "outputs": [
    {
     "name": "stdout",
     "output_type": "stream",
     "text": [
      "2\n",
      "6\n",
      "12\n",
      "20\n",
      "30\n",
      "42\n",
      "56\n",
      "72\n",
      "90\n"
     ]
    }
   ],
   "source": [
    "n=0\n",
    "for i in range(1,101):\n",
    "    n=i*(i+1)\n",
    "    if n<100:\n",
    "        print(n)"
   ]
  },
  {
   "cell_type": "code",
   "execution_count": null,
   "id": "24db08be",
   "metadata": {},
   "outputs": [],
   "source": []
  }
 ],
 "metadata": {
  "kernelspec": {
   "display_name": "Python 3 (ipykernel)",
   "language": "python",
   "name": "python3"
  },
  "language_info": {
   "codemirror_mode": {
    "name": "ipython",
    "version": 3
   },
   "file_extension": ".py",
   "mimetype": "text/x-python",
   "name": "python",
   "nbconvert_exporter": "python",
   "pygments_lexer": "ipython3",
   "version": "3.9.7"
  }
 },
 "nbformat": 4,
 "nbformat_minor": 5
}
