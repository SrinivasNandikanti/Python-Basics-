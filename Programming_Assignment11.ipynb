{
 "cells": [
  {
   "cell_type": "code",
   "execution_count": 1,
   "id": "fc1d536c",
   "metadata": {},
   "outputs": [],
   "source": [
    "#1.\tWrite a Python program to find words which are greater than given length k?"
   ]
  },
  {
   "cell_type": "code",
   "execution_count": 1,
   "id": "1f80c5b8",
   "metadata": {},
   "outputs": [
    {
     "name": "stdout",
     "output_type": "stream",
     "text": [
      "Enter the length3\n",
      "srinu\n",
      "srinivas\n",
      "nandi\n",
      "nandikanti\n"
     ]
    }
   ],
   "source": [
    "k = int(input(\"Enter the length\"))\n",
    "l = ['srinu','srinivas','nandi','sri','nan','am','nandikanti']\n",
    "for i in l:\n",
    "    if len(i)>k:\n",
    "        print(i)"
   ]
  },
  {
   "cell_type": "code",
   "execution_count": 2,
   "id": "86964c25",
   "metadata": {},
   "outputs": [],
   "source": [
    "#2.\tWrite a Python program for removing i-th character from a string?"
   ]
  },
  {
   "cell_type": "code",
   "execution_count": 43,
   "id": "21ad30c4",
   "metadata": {},
   "outputs": [
    {
     "name": "stdout",
     "output_type": "stream",
     "text": [
      "Enter a string: srinivas\n",
      "Enter a number: 2\n"
     ]
    },
    {
     "data": {
      "text/plain": [
       "'srnivas'"
      ]
     },
     "execution_count": 43,
     "metadata": {},
     "output_type": "execute_result"
    }
   ],
   "source": [
    "a =str(input(\"Enter a string: \"))\n",
    "i = int(input(\"Enter a number: \"))\n",
    "l = list(a)\n",
    "l.pop(i)\n",
    "l\n",
    "c = \"\".join(l)\n",
    "c"
   ]
  },
  {
   "cell_type": "code",
   "execution_count": 9,
   "id": "1b319918",
   "metadata": {},
   "outputs": [],
   "source": [
    "#3.\tWrite a Python program to split and join a string?\n"
   ]
  },
  {
   "cell_type": "code",
   "execution_count": 15,
   "id": "0ff5cfbf",
   "metadata": {},
   "outputs": [
    {
     "data": {
      "text/plain": [
       "'Srinivas Nandikanti'"
      ]
     },
     "execution_count": 15,
     "metadata": {},
     "output_type": "execute_result"
    }
   ],
   "source": [
    "a = 'SrinivasNandikanti'\n",
    "b = a[:8]\n",
    "c = a[8:]\n",
    "d = b+\" \"+c\n",
    "d"
   ]
  },
  {
   "cell_type": "code",
   "execution_count": 16,
   "id": "6f69d662",
   "metadata": {},
   "outputs": [],
   "source": [
    "#4.\tWrite a Python to check if a given string is binary string or not?"
   ]
  },
  {
   "cell_type": "code",
   "execution_count": 17,
   "id": "d862269f",
   "metadata": {},
   "outputs": [
    {
     "name": "stdout",
     "output_type": "stream",
     "text": [
      "Given string 1010103341 is not a binary string\n"
     ]
    }
   ],
   "source": [
    "a = '1010103341'\n",
    "b =set(a)\n",
    "c = {0,1}\n",
    "if b ==c or b =={'0'} or b =={'1'}:\n",
    "    print(\"Given string {} is a binary string\".format(a))\n",
    "else:\n",
    "    print(\"Given string {} is not a binary string\".format(a))"
   ]
  },
  {
   "cell_type": "code",
   "execution_count": 18,
   "id": "b87e63ac",
   "metadata": {},
   "outputs": [],
   "source": [
    "#5.\tWrite a Python program to find uncommon words from two Strings?"
   ]
  },
  {
   "cell_type": "code",
   "execution_count": 63,
   "id": "056e491b",
   "metadata": {},
   "outputs": [
    {
     "name": "stdout",
     "output_type": "stream",
     "text": [
      "Hyderabad\n",
      "working\n",
      "for\n",
      "Dell\n",
      "home\n"
     ]
    }
   ],
   "source": [
    "A = \"I am from Hyderabad\" \n",
    "a= A.split(\" \")\n",
    "B = \"I am working for Dell from home\"\n",
    "b = B.split(\" \")\n",
    "a.extend(b)\n",
    "for i in a:\n",
    "    if a.count(i)==1:\n",
    "        print(i)"
   ]
  },
  {
   "cell_type": "code",
   "execution_count": 47,
   "id": "3fa25808",
   "metadata": {},
   "outputs": [],
   "source": [
    "#6.\tWrite a Python to find all duplicate characters in string?"
   ]
  },
  {
   "cell_type": "code",
   "execution_count": 60,
   "id": "af91616b",
   "metadata": {},
   "outputs": [
    {
     "name": "stdout",
     "output_type": "stream",
     "text": [
      "s\n",
      "i\n",
      "n\n",
      "i\n",
      "a\n",
      "s\n",
      "n\n",
      "a\n",
      "n\n",
      "i\n",
      "a\n",
      "n\n",
      "i\n"
     ]
    }
   ],
   "source": [
    "a = 'srinivas nandikanti'\n",
    "b = list(a)\n",
    "for i in b:\n",
    "    if b.count(i)>1:\n",
    "        print(i)"
   ]
  },
  {
   "cell_type": "code",
   "execution_count": 65,
   "id": "2a52cf7c",
   "metadata": {},
   "outputs": [],
   "source": [
    "#7.\tWrite a Python Program to check if a string contains any special character?"
   ]
  },
  {
   "cell_type": "code",
   "execution_count": 72,
   "id": "dcb9e51d",
   "metadata": {},
   "outputs": [
    {
     "name": "stdout",
     "output_type": "stream",
     "text": [
      "Enter a stringSri@mahendra8\n",
      "The string contains special characters.\n"
     ]
    }
   ],
   "source": [
    "import re\n",
    "s = str(input(\"Enter a string\"))\n",
    "\n",
    "special_char = re.compile('[@_!#$%^&*()<>?/\\|}{~:]')\n",
    "\n",
    "if(special_char.search(s) == None):\n",
    "    print('String does not contain any special characters.')\n",
    "else:\n",
    "    print('The string contains special characters.')"
   ]
  },
  {
   "cell_type": "code",
   "execution_count": null,
   "id": "c6ad5c3a",
   "metadata": {},
   "outputs": [],
   "source": []
  }
 ],
 "metadata": {
  "kernelspec": {
   "display_name": "Python 3 (ipykernel)",
   "language": "python",
   "name": "python3"
  },
  "language_info": {
   "codemirror_mode": {
    "name": "ipython",
    "version": 3
   },
   "file_extension": ".py",
   "mimetype": "text/x-python",
   "name": "python",
   "nbconvert_exporter": "python",
   "pygments_lexer": "ipython3",
   "version": "3.9.7"
  }
 },
 "nbformat": 4,
 "nbformat_minor": 5
}
