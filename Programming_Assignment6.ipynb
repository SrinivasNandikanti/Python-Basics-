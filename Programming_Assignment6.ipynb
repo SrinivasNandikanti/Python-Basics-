{
 "cells": [
  {
   "cell_type": "code",
   "execution_count": 21,
   "id": "19ca4cd7",
   "metadata": {},
   "outputs": [],
   "source": [
    "#1.\tWrite a Python Program to Display Fibonacci Sequence Using Recursion?"
   ]
  },
  {
   "cell_type": "code",
   "execution_count": 29,
   "id": "d39300dc",
   "metadata": {},
   "outputs": [],
   "source": [
    "def fib(n):\n",
    "    if n<=1:\n",
    "        return n\n",
    "    else:\n",
    "        return (fib(n-1)+fib(n-2))"
   ]
  },
  {
   "cell_type": "code",
   "execution_count": 31,
   "id": "19ea8e42",
   "metadata": {},
   "outputs": [
    {
     "name": "stdout",
     "output_type": "stream",
     "text": [
      "Enter a length of fibonacci squence to be displayed : 10\n",
      "Fibonacci sequence:\n",
      "0\n",
      "1\n",
      "1\n",
      "2\n",
      "3\n",
      "5\n",
      "8\n",
      "13\n",
      "21\n",
      "34\n"
     ]
    }
   ],
   "source": [
    "n = int(input(\"Enter a length of fibonacci squence to be displayed : \"))\n",
    "if n <= 0:\n",
    "   print(\"Plese enter a positive integer\")\n",
    "else:\n",
    "   print(\"Fibonacci sequence:\")\n",
    "   for i in range(n):\n",
    "       print(fib(i))"
   ]
  },
  {
   "cell_type": "code",
   "execution_count": 13,
   "id": "d9bab981",
   "metadata": {},
   "outputs": [],
   "source": [
    "#2.\tWrite a Python Program to Find Factorial of Number Using Recursion?"
   ]
  },
  {
   "cell_type": "code",
   "execution_count": 20,
   "id": "9a2b76fb",
   "metadata": {},
   "outputs": [
    {
     "name": "stdout",
     "output_type": "stream",
     "text": [
      "Enter a number for which factorial needs to be find: 5\n",
      "Factorial of given number 5 is 20\n"
     ]
    }
   ],
   "source": [
    "n = int(input(\"Enter a number for which factorial needs to be find: \"))\n",
    "def fact(n):\n",
    "    return 1 if n <=1 else n*(n-1)\n",
    "print(\"Factorial of given number {} is {}\".format(n,fact(n)))"
   ]
  },
  {
   "cell_type": "code",
   "execution_count": 11,
   "id": "8629f6f2",
   "metadata": {},
   "outputs": [],
   "source": [
    "#3.\tWrite a Python Program to calculate your Body Mass Index?"
   ]
  },
  {
   "cell_type": "code",
   "execution_count": 12,
   "id": "30c4af1a",
   "metadata": {
    "scrolled": true
   },
   "outputs": [
    {
     "name": "stdout",
     "output_type": "stream",
     "text": [
      "Enter the height of a person in 'meters' 1.75\n",
      "Enter the weight of a person in 'kgs' 75\n",
      "Body Mass Index of person with height: 1.75 and weight: 75.0 is:24.489795918367346 \n"
     ]
    }
   ],
   "source": [
    "h = float(input(\"Enter the height of a person in 'meters' \"))\n",
    "w = float(input(\"Enter the weight of a person in 'kgs' \"))\n",
    "BMI = w/(h**2)\n",
    "print(\"Body Mass Index of person with height: {} and weight: {} is:{} \".format(h,w,BMI))"
   ]
  },
  {
   "cell_type": "code",
   "execution_count": 5,
   "id": "bddda719",
   "metadata": {},
   "outputs": [],
   "source": [
    "#4.\tWrite a Python Program to calculate the natural logarithm of any number?"
   ]
  },
  {
   "cell_type": "code",
   "execution_count": 10,
   "id": "55096b09",
   "metadata": {},
   "outputs": [
    {
     "name": "stdout",
     "output_type": "stream",
     "text": [
      "Enter a numbers x: 10\n",
      "Natual logarithm of given number 10.0 is 2.302585092994046\n",
      "Logarithm of given number 10.0 with base 10 is 1.0\n"
     ]
    }
   ],
   "source": [
    "x = float(input(\"Enter a numbers x: \"))\n",
    "import math\n",
    "n_log = math.log(x)\n",
    "print(\"Natual logarithm of given number {} is {}\".format(x,n_log))\n",
    "log_10=math.log10(x)\n",
    "print(\"Logarithm of given number {} with base 10 is {}\".format(x,log_10))"
   ]
  },
  {
   "cell_type": "code",
   "execution_count": 1,
   "id": "070eeb44",
   "metadata": {},
   "outputs": [],
   "source": [
    "#5.\tWrite a Python Program for cube sum of first n natural numbers?"
   ]
  },
  {
   "cell_type": "code",
   "execution_count": 4,
   "id": "5a571693",
   "metadata": {},
   "outputs": [
    {
     "name": "stdout",
     "output_type": "stream",
     "text": [
      "Enter the size of first n natural numbers n: 10\n",
      "Sum of cubes of first 10 natural numbers: 3025.0\n"
     ]
    }
   ],
   "source": [
    "n = int(input(\"Enter the size of first n natural numbers n: \"))\n",
    "sum = ((n**2)*((n+1)**2))/4\n",
    "print(\"Sum of cubes of first {} natural numbers: {}\".format(n,sum))"
   ]
  }
 ],
 "metadata": {
  "kernelspec": {
   "display_name": "Python 3 (ipykernel)",
   "language": "python",
   "name": "python3"
  },
  "language_info": {
   "codemirror_mode": {
    "name": "ipython",
    "version": 3
   },
   "file_extension": ".py",
   "mimetype": "text/x-python",
   "name": "python",
   "nbconvert_exporter": "python",
   "pygments_lexer": "ipython3",
   "version": "3.9.7"
  }
 },
 "nbformat": 4,
 "nbformat_minor": 5
}
