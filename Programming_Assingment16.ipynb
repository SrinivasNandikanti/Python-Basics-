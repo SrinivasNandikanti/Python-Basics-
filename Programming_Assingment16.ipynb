{
 "cells": [
  {
   "cell_type": "markdown",
   "id": "a6ffebab",
   "metadata": {},
   "source": [
    "Question1. Write a function that stutters a word as if someone is struggling to read it. The first two letters are repeated twice with an ellipsis ... and space after each, and then the word is pronounced with a question mark ?.\n",
    "Examples\n",
    "stutter(\"incredible\") ➞ \"in... in... incredible?\"\n",
    "\n",
    "stutter(\"enthusiastic\") ➞ \"en... en... enthusiastic?\"\n",
    "\n",
    "stutter(\"outstanding\") ➞ \"ou... ou... outstanding?\"\n",
    "\n",
    "Hint :- Assume all input is in lower case and at least two characters long.\n"
   ]
  },
  {
   "cell_type": "code",
   "execution_count": 3,
   "id": "0e8e72d0",
   "metadata": {},
   "outputs": [],
   "source": [
    "def stutter(s):\n",
    "    t = \"\"\n",
    "    t += s[:2]\n",
    "    t += \"... \"\n",
    "    t += s[:2]\n",
    "    t += \"... \"\n",
    "    t += s[:]\n",
    "    t += \"?\"\n",
    "    return t"
   ]
  },
  {
   "cell_type": "code",
   "execution_count": 4,
   "id": "14c53a3c",
   "metadata": {},
   "outputs": [
    {
     "data": {
      "text/plain": [
       "'ou... ou... outstanding?'"
      ]
     },
     "execution_count": 4,
     "metadata": {},
     "output_type": "execute_result"
    }
   ],
   "source": [
    "stutter(\"outstanding\")"
   ]
  },
  {
   "cell_type": "markdown",
   "id": "0fa9b174",
   "metadata": {},
   "source": [
    "Question 2.Create a function that takes an angle in radians and returns the corresponding angle in degrees rounded to one decimal place.\n",
    "Examples\n",
    "radians_to_degrees(1) ➞ 57.3\n",
    "\n",
    "radians_to_degrees(20) ➞ 1145.9\n",
    "\n",
    "radians_to_degrees(50) ➞ 2864.8\n"
   ]
  },
  {
   "cell_type": "code",
   "execution_count": 5,
   "id": "57ce5799",
   "metadata": {},
   "outputs": [],
   "source": [
    "def radians_to_degrees(n):\n",
    "    return round((n*180/3.14),1)"
   ]
  },
  {
   "cell_type": "code",
   "execution_count": 6,
   "id": "c3dc931b",
   "metadata": {},
   "outputs": [
    {
     "data": {
      "text/plain": [
       "2866.2"
      ]
     },
     "execution_count": 6,
     "metadata": {},
     "output_type": "execute_result"
    }
   ],
   "source": [
    "radians_to_degrees(50)"
   ]
  },
  {
   "cell_type": "markdown",
   "id": "38bc5def",
   "metadata": {},
   "source": [
    "Question 3. In this challenge, establish if a given integer num is a Curzon number. If 1 plus 2 elevated to num is exactly divisible by 1 plus 2 multiplied by num, then num is a Curzon number.\n",
    "Given a non-negative integer num, implement a function that returns True if num is a Curzon number, or False otherwise.\n",
    "Examples\n",
    "is_curzon(5) ➞ True\n",
    "#2 ** 5 + 1 = 33\n",
    "#2 * 5 + 1 = 11\n",
    "#33 is a multiple of 11\n",
    "\n",
    "is_curzon(10) ➞ False\n",
    "#2 ** 10 + 1 = 1025\n",
    "#2 * 10 + 1 = 21\n",
    "#1025 is not a multiple of 21\n",
    "\n",
    "is_curzon(14) ➞ True\n",
    "#2 ** 14 + 1 = 16385\n",
    "#2 * 14 + 1 = 29\n",
    "#16385 is a multiple of 29\n"
   ]
  },
  {
   "cell_type": "code",
   "execution_count": 7,
   "id": "7e3f247d",
   "metadata": {},
   "outputs": [],
   "source": [
    "def is_curzon(n):\n",
    "    a = 2**n+1\n",
    "    b = 2*n+1\n",
    "    if a%b ==0:\n",
    "        return True\n",
    "    else:\n",
    "        return False"
   ]
  },
  {
   "cell_type": "code",
   "execution_count": 11,
   "id": "8350b3dd",
   "metadata": {},
   "outputs": [
    {
     "data": {
      "text/plain": [
       "True"
      ]
     },
     "execution_count": 11,
     "metadata": {},
     "output_type": "execute_result"
    }
   ],
   "source": [
    "is_curzon(5)"
   ]
  },
  {
   "cell_type": "markdown",
   "id": "8ee5052e",
   "metadata": {},
   "source": [
    "Question 4.Given the side length x find the area of a hexagon.\n",
    " \n",
    "Examples\n",
    "area_of_hexagon(1) ➞ 2.6\n",
    "\n",
    "area_of_hexagon(2) ➞ 10.4\n",
    "\n",
    "area_of_hexagon(3) ➞ 23.4\n"
   ]
  },
  {
   "cell_type": "code",
   "execution_count": 14,
   "id": "c319f296",
   "metadata": {},
   "outputs": [],
   "source": [
    "def area_of_hexagon(s):\n",
    "    return round(((3*s*s*0.5)*(3**0.5)),1)"
   ]
  },
  {
   "cell_type": "code",
   "execution_count": 15,
   "id": "bf6f4eca",
   "metadata": {},
   "outputs": [
    {
     "data": {
      "text/plain": [
       "23.4"
      ]
     },
     "execution_count": 15,
     "metadata": {},
     "output_type": "execute_result"
    }
   ],
   "source": [
    "area_of_hexagon(3)"
   ]
  },
  {
   "cell_type": "markdown",
   "id": "b52aa465",
   "metadata": {},
   "source": [
    "Question 5. Create a function that returns a base-2 (binary) representation of a base-10 (decimal) string number. To convert is simple: ((2) means base-2 and (10) means base-10) 010101001(2) = 1 + 8 + 32 + 128.\n",
    "Going from right to left, the value of the most right bit is 1, now from that every bit to the left will be x2 the value, value of an 8 bit binary numbers are (256, 128, 64, 32, 16, 8, 4, 2, 1).\n",
    "Examples\n",
    "binary(1) ➞ \"1\"\n",
    "#1*1 = 1\n",
    "\n",
    "binary(5) ➞ \"101\"\n",
    "#1*1 + 1*4 = 5\n",
    "\n",
    "binary(10) ➞ \"1010\"\n",
    "#1*2 + 1*8 = 10\n"
   ]
  },
  {
   "cell_type": "code",
   "execution_count": 30,
   "id": "b87042ef",
   "metadata": {},
   "outputs": [],
   "source": [
    "def binary(n):\n",
    "    l = []\n",
    "    while n >=1:\n",
    "        l.append(n%2)\n",
    "        b = int(n/2)\n",
    "        n = b\n",
    "    m = l[::-1]\n",
    "    s = \"\"\n",
    "    for i in m:\n",
    "        s +=str(i)\n",
    "    return int(s)"
   ]
  },
  {
   "cell_type": "code",
   "execution_count": 33,
   "id": "157d29c0",
   "metadata": {},
   "outputs": [
    {
     "data": {
      "text/plain": [
       "10"
      ]
     },
     "execution_count": 33,
     "metadata": {},
     "output_type": "execute_result"
    }
   ],
   "source": [
    "binary(2)"
   ]
  },
  {
   "cell_type": "code",
   "execution_count": null,
   "id": "d3ff22a9",
   "metadata": {},
   "outputs": [],
   "source": []
  }
 ],
 "metadata": {
  "kernelspec": {
   "display_name": "Python 3 (ipykernel)",
   "language": "python",
   "name": "python3"
  },
  "language_info": {
   "codemirror_mode": {
    "name": "ipython",
    "version": 3
   },
   "file_extension": ".py",
   "mimetype": "text/x-python",
   "name": "python",
   "nbconvert_exporter": "python",
   "pygments_lexer": "ipython3",
   "version": "3.9.7"
  }
 },
 "nbformat": 4,
 "nbformat_minor": 5
}
