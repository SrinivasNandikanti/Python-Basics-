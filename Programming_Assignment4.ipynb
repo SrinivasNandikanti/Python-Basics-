{
 "cells": [
  {
   "cell_type": "markdown",
   "id": "41922252",
   "metadata": {},
   "source": [
    "1.\tWrite a Python Program to Find the Factorial of a Number?"
   ]
  },
  {
   "cell_type": "code",
   "execution_count": 10,
   "id": "ad521b8d",
   "metadata": {},
   "outputs": [
    {
     "name": "stdout",
     "output_type": "stream",
     "text": [
      "Enter A Number 7\n",
      "5040\n"
     ]
    }
   ],
   "source": [
    "a = int(input(\"Enter A Number \"))\n",
    "factorial = 1\n",
    "for i in range (1,a+1):\n",
    "    factorial *= i\n",
    "print(factorial)"
   ]
  },
  {
   "cell_type": "markdown",
   "id": "69ea1a9a",
   "metadata": {},
   "source": [
    "2.\tWrite a Python Program to Display the multiplication Table?"
   ]
  },
  {
   "cell_type": "code",
   "execution_count": 15,
   "id": "c4888b36",
   "metadata": {},
   "outputs": [
    {
     "name": "stdout",
     "output_type": "stream",
     "text": [
      "Enter A Number 9\n",
      "Enter the lower limit 1\n",
      "Enter the Upper limit 10\n",
      "9\n",
      "18\n",
      "27\n",
      "36\n",
      "45\n",
      "54\n",
      "63\n",
      "72\n",
      "81\n",
      "90\n"
     ]
    }
   ],
   "source": [
    "a = int(input(\"Enter A Number \"))\n",
    "b = int(input(\"Enter the lower limit \"))\n",
    "c = int(input(\"Enter the Upper limit \"))\n",
    "for i in range (b,c +1):\n",
    "    multiplication = i * a\n",
    "    print(multiplication)"
   ]
  },
  {
   "cell_type": "markdown",
   "id": "afdbb0b9",
   "metadata": {},
   "source": [
    "3.\tWrite a Python Program to Print the Fibonacci sequence?"
   ]
  },
  {
   "cell_type": "code",
   "execution_count": 43,
   "id": "e2a759c3",
   "metadata": {},
   "outputs": [
    {
     "name": "stdout",
     "output_type": "stream",
     "text": [
      "Give the limit for Fibonacci Sequence 4\n",
      "[0, 1, 1, 2]\n"
     ]
    }
   ],
   "source": [
    "d = int(input(\"Give the limit for Fibonacci Sequence \"))\n",
    "list = [0,1]\n",
    "a = len(list)-1\n",
    "b = len(list)-2\n",
    "for i in range (0,d-2):\n",
    "    c = list[a+i] + list[b+i]\n",
    "    list.append(c)\n",
    "print(list)"
   ]
  },
  {
   "cell_type": "markdown",
   "id": "510ec216",
   "metadata": {},
   "source": [
    "4.\tWrite a Python Program to Check Armstrong Number?"
   ]
  },
  {
   "cell_type": "code",
   "execution_count": 88,
   "id": "4b128314",
   "metadata": {},
   "outputs": [
    {
     "name": "stdout",
     "output_type": "stream",
     "text": [
      "Enter a digit number to check  6\n",
      "Given number 6 is a Armstrong Number\n"
     ]
    }
   ],
   "source": [
    "s = str(input(\"Enter a digit number to check  \"))\n",
    "n = len(s)\n",
    "d = 0\n",
    "for i in s:\n",
    "    int(i)\n",
    "    d += (int(i)**n)\n",
    "if d == int(s):\n",
    "    print(\"Given number {} is a Armstrong Number\".format(s))\n",
    "else:\n",
    "    print(\"Given number {} is not an Armstrong Number\".format(s))\n"
   ]
  },
  {
   "cell_type": "markdown",
   "id": "23f17d22",
   "metadata": {},
   "source": [
    "5.\tWrite a Python Program to Find Armstrong Number in an Interval?"
   ]
  },
  {
   "cell_type": "code",
   "execution_count": 94,
   "id": "44a7c517",
   "metadata": {},
   "outputs": [
    {
     "name": "stdout",
     "output_type": "stream",
     "text": [
      "Give the lower limit 1\n",
      "Give the upper limit 10000\n",
      "List of Armstrong Number in range(1,10000): [1, 2, 3, 4, 5, 6, 7, 8, 9, 153, 370, 371, 407, 1634, 8208, 9474] \n"
     ]
    }
   ],
   "source": [
    "a = int(input(\"Give the lower limit \"))\n",
    "b = int(input(\"Give the upper limit \"))\n",
    "list1 = []\n",
    "list2 = []\n",
    "for i in range(a,b+1):\n",
    "    s = str(i)\n",
    "    n = len(s)\n",
    "    d = 0\n",
    "    for j in s:\n",
    "        d +=(int(j)**n)\n",
    "    if d == int(s):\n",
    "        list1.append(d)\n",
    "    else:\n",
    "        list2.append(i)\n",
    "print(\"List of Armstrong Number in range({},{}): {} \".format(a,b,list1))\n",
    "#print(\"List of Not Armstrong Number in range({},{}): {} \".format(a,b,list2))"
   ]
  },
  {
   "cell_type": "markdown",
   "id": "0151e95c",
   "metadata": {},
   "source": [
    "6.\tWrite a Python Program to Find the Sum of Natural Numbers?"
   ]
  },
  {
   "cell_type": "code",
   "execution_count": 69,
   "id": "6d79db44",
   "metadata": {},
   "outputs": [
    {
     "name": "stdout",
     "output_type": "stream",
     "text": [
      "Give the natural number 12\n",
      "The Sum of first 12 Natural Numbers: 78\n"
     ]
    }
   ],
   "source": [
    "n = int(input(\"Give the natural number \"))\n",
    "sum = int((n * (n+1))/2)\n",
    "print(\"The Sum of first {} Natural Numbers: {}\".format(n,sum))"
   ]
  }
 ],
 "metadata": {
  "kernelspec": {
   "display_name": "Python 3 (ipykernel)",
   "language": "python",
   "name": "python3"
  },
  "language_info": {
   "codemirror_mode": {
    "name": "ipython",
    "version": 3
   },
   "file_extension": ".py",
   "mimetype": "text/x-python",
   "name": "python",
   "nbconvert_exporter": "python",
   "pygments_lexer": "ipython3",
   "version": "3.9.7"
  }
 },
 "nbformat": 4,
 "nbformat_minor": 5
}
