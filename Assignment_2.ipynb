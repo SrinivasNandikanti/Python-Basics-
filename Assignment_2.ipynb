{
 "cells": [
  {
   "cell_type": "markdown",
   "id": "414741ae",
   "metadata": {},
   "source": [
    "1.What are the two values of the Boolean data type? How do you write them?"
   ]
  },
  {
   "cell_type": "code",
   "execution_count": 2,
   "id": "8113941e",
   "metadata": {},
   "outputs": [],
   "source": [
    "#The two values of the Boolean data type are True and False."
   ]
  },
  {
   "cell_type": "markdown",
   "id": "40c38b20",
   "metadata": {},
   "source": [
    "2. What are the three different types of Boolean operators?"
   ]
  },
  {
   "cell_type": "code",
   "execution_count": 4,
   "id": "ba1f6c90",
   "metadata": {},
   "outputs": [],
   "source": [
    "#The three different types of Boolean operators are:\n",
    "#AND\n",
    "#OR\n",
    "#NOT"
   ]
  },
  {
   "cell_type": "markdown",
   "id": "e3e320fa",
   "metadata": {},
   "source": [
    "3. Make a list of each Boolean operator's truth tables (i.e. every possible combination of Boolean values for the operator and what it evaluate )."
   ]
  },
  {
   "cell_type": "code",
   "execution_count": 8,
   "id": "9ba5db7d",
   "metadata": {},
   "outputs": [
    {
     "name": "stdout",
     "output_type": "stream",
     "text": [
      "True and True is True \n",
      "True and False is False \n",
      "False and True is False \n",
      "False and False is False \n"
     ]
    }
   ],
   "source": [
    "# Using AND operator\n",
    "a = True and True\n",
    "b = True and False\n",
    "c = False and True\n",
    "d = False and False\n",
    "print(\"True and True is {} \".format(a) )\n",
    "print(\"True and False is {} \".format(b) )\n",
    "print(\"False and True is {} \".format(c) )\n",
    "print(\"False and False is {} \".format(d) )"
   ]
  },
  {
   "cell_type": "code",
   "execution_count": 9,
   "id": "ce43ca5b",
   "metadata": {},
   "outputs": [
    {
     "name": "stdout",
     "output_type": "stream",
     "text": [
      "True or True is True \n",
      "True or False is True \n",
      "False or True is True \n",
      "False or False is False \n"
     ]
    }
   ],
   "source": [
    "# Using OR operator\n",
    "a = True or True\n",
    "b = True or False\n",
    "c = False or True\n",
    "d = False or False\n",
    "print(\"True or True is {} \".format(a) )\n",
    "print(\"True or False is {} \".format(b) )\n",
    "print(\"False or True is {} \".format(c) )\n",
    "print(\"False or False is {} \".format(d) )"
   ]
  },
  {
   "cell_type": "code",
   "execution_count": 12,
   "id": "e1529a42",
   "metadata": {},
   "outputs": [
    {
     "name": "stdout",
     "output_type": "stream",
     "text": [
      "Not True is False \n",
      "Not False is True \n"
     ]
    }
   ],
   "source": [
    "# Using NOT operator\n",
    "a = not True \n",
    "b = not False\n",
    "print(\"Not True is {} \".format(a) )\n",
    "print(\"Not False is {} \".format(b) )"
   ]
  },
  {
   "cell_type": "markdown",
   "id": "dd873b14",
   "metadata": {},
   "source": [
    "4. What are the values of the following expressions?\n",
    "(5 > 4) and (3 == 5); \n",
    "not (5 > 4);\n",
    "(5 > 4) or (3 == 5);\n",
    "not ((5 > 4) or (3 == 5));\n",
    "(True and True) and (True == False);\n",
    "(not False) or (not True)"
   ]
  },
  {
   "cell_type": "code",
   "execution_count": 19,
   "id": "585e44dd",
   "metadata": {},
   "outputs": [
    {
     "name": "stdout",
     "output_type": "stream",
     "text": [
      "(5 > 4) and (3 == 5) is False\n",
      "not (5 > 4) is False\n",
      "(5 > 4) or (3 == 5) is True\n",
      "not ((5 > 4) or (3 == 5)) is False\n",
      "(True and True) and (True == False) is False\n",
      "(not False) or (not True) is True\n"
     ]
    }
   ],
   "source": [
    "a = (5 > 4) and (3 == 5)\n",
    "print(\"(5 > 4) and (3 == 5) is {}\".format(a))\n",
    "b = not (5 > 4)\n",
    "print(\"not (5 > 4) is {}\".format(b))\n",
    "c = (5 > 4) or (3 == 5)\n",
    "print(\"(5 > 4) or (3 == 5) is {}\".format(c))\n",
    "d = not ((5 > 4) or (3 == 5))\n",
    "print(\"not ((5 > 4) or (3 == 5)) is {}\".format(d))\n",
    "e = (True and True) and (True == False)\n",
    "print(\"(True and True) and (True == False) is {}\".format(e))\n",
    "f = (not False) or (not True)\n",
    "print(\"(not False) or (not True) is {}\".format(f))"
   ]
  },
  {
   "cell_type": "markdown",
   "id": "dde4d75f",
   "metadata": {},
   "source": [
    "5. What are the six comparison operators?"
   ]
  },
  {
   "cell_type": "code",
   "execution_count": 20,
   "id": "242085b3",
   "metadata": {},
   "outputs": [],
   "source": [
    "# 1.Greater than (>)\n",
    "# 2. Less than (<)\n",
    "# 3. Greater than equal to (>=)\n",
    "# 4. Less than equal to (<=)\n",
    "# 5. equal to (==)\n",
    "# 6. Not equal to (!=)"
   ]
  },
  {
   "cell_type": "markdown",
   "id": "277bbcfd",
   "metadata": {},
   "source": [
    "6. How do you tell the difference between the equal to and assignment operators?Describe a condition and when you would use one."
   ]
  },
  {
   "cell_type": "code",
   "execution_count": 22,
   "id": "52a7e766",
   "metadata": {},
   "outputs": [
    {
     "name": "stdout",
     "output_type": "stream",
     "text": [
      "Its not One\n",
      "4\n"
     ]
    }
   ],
   "source": [
    "# equal to is an comparison operator used to write the conditions\n",
    "# where as assignment operators are used to assign an value to a variable\n",
    "\n",
    "#eg: equal to operator\n",
    "a = 2\n",
    "if a == 1:\n",
    "    print(\"Its One\")\n",
    "else:\n",
    "    print(\"Its not One\")\n",
    "\n",
    "#eq: assignment operator\n",
    "b = 4\n",
    "print(b)"
   ]
  },
  {
   "cell_type": "markdown",
   "id": "5e913300",
   "metadata": {},
   "source": [
    "7. Identify the three blocks in this code:\n",
    "spam = 0\n",
    "if spam == 10:\n",
    "print('eggs')\n",
    "if spam > 5:\n",
    "print('bacon')\n",
    "else:\n",
    "print('ham')\n",
    "print('spam')\n",
    "print('spam')\n"
   ]
  },
  {
   "cell_type": "code",
   "execution_count": 25,
   "id": "a9b40ba9",
   "metadata": {},
   "outputs": [
    {
     "name": "stdout",
     "output_type": "stream",
     "text": [
      "spam\n"
     ]
    }
   ],
   "source": [
    "\n",
    "spam = 0\n",
    "if spam == 10:\n",
    "    print('eggs') #block A\n",
    "    if spam > 5: #block A\n",
    "        print('bacon') #block B\n",
    "    else: # block b end \n",
    "        print('ham') # block C \n",
    "    print('spam') # block c end\n",
    "print('spam')# block A end"
   ]
  },
  {
   "cell_type": "markdown",
   "id": "44add80a",
   "metadata": {},
   "source": [
    "8. Write code that prints Hello if 1 is stored in spam, prints Howdy if 2 is stored in spam, and prints Greetings! if anything else is stored in spam."
   ]
  },
  {
   "cell_type": "code",
   "execution_count": 33,
   "id": "834179bd",
   "metadata": {},
   "outputs": [
    {
     "name": "stdout",
     "output_type": "stream",
     "text": [
      "Howdy\n"
     ]
    }
   ],
   "source": [
    "spam = 2\n",
    "if spam == 1:\n",
    "    print(\"Hello\")\n",
    "elif spam ==2:\n",
    "    print(\"Howdy\")\n",
    "else:\n",
    "    print(\"Greetings\")"
   ]
  },
  {
   "cell_type": "markdown",
   "id": "3bd676e6",
   "metadata": {},
   "source": [
    "9.If your programme is stuck in an endless loop, what keys you’ll press?"
   ]
  },
  {
   "cell_type": "code",
   "execution_count": 34,
   "id": "8f7bbb30",
   "metadata": {},
   "outputs": [],
   "source": [
    "#I will press Ctrl + C. Or I will press the interrupt the kernel button on the top"
   ]
  },
  {
   "cell_type": "markdown",
   "id": "b5c61421",
   "metadata": {},
   "source": [
    "10. How can you tell the difference between break and continue?"
   ]
  },
  {
   "cell_type": "code",
   "execution_count": null,
   "id": "b3ef064f",
   "metadata": {},
   "outputs": [],
   "source": [
    "#Break: Allow the user to exit from the loop construct. Also control exit from the loop\n",
    "#Continue: Doesnt allow the user to exit from the loop construct. Control passes automatically to the very beginning of the loop"
   ]
  },
  {
   "cell_type": "markdown",
   "id": "beb7af2c",
   "metadata": {},
   "source": [
    "11. In a for loop, what is the difference between range(10), range(0, 10), and range(0, 10, 1)?"
   ]
  },
  {
   "cell_type": "code",
   "execution_count": 35,
   "id": "39b92f24",
   "metadata": {},
   "outputs": [],
   "source": [
    "#All are 3 indicates the same, where starting point is 0, ending point is 10 with step size of 1"
   ]
  },
  {
   "cell_type": "markdown",
   "id": "ebe0de9c",
   "metadata": {},
   "source": [
    "12. Write a short program that prints the numbers 1 to 10 using a for loop. Then write an equivalent program that prints the numbers 1 to 10 using a while loop."
   ]
  },
  {
   "cell_type": "code",
   "execution_count": 40,
   "id": "3693562d",
   "metadata": {},
   "outputs": [
    {
     "name": "stdout",
     "output_type": "stream",
     "text": [
      "1\n",
      "2\n",
      "3\n",
      "4\n",
      "5\n",
      "6\n",
      "7\n",
      "8\n",
      "9\n",
      "10\n"
     ]
    }
   ],
   "source": [
    "for i in range(1,11):\n",
    "    print(i)"
   ]
  },
  {
   "cell_type": "code",
   "execution_count": 47,
   "id": "1e9ad17a",
   "metadata": {},
   "outputs": [
    {
     "name": "stdout",
     "output_type": "stream",
     "text": [
      "1\n",
      "2\n",
      "3\n",
      "4\n",
      "5\n",
      "6\n",
      "7\n",
      "8\n",
      "9\n",
      "10\n"
     ]
    }
   ],
   "source": [
    "j = 0\n",
    "while j < 10:\n",
    "    j +=1\n",
    "    print(j)"
   ]
  },
  {
   "cell_type": "markdown",
   "id": "fd1dd522",
   "metadata": {},
   "source": [
    "13. If you had a function named bacon() inside a module named spam, how would you call it after importing spam?"
   ]
  },
  {
   "cell_type": "code",
   "execution_count": 48,
   "id": "e7054862",
   "metadata": {},
   "outputs": [],
   "source": [
    "#spam.bacon()"
   ]
  },
  {
   "cell_type": "code",
   "execution_count": null,
   "id": "1415e111",
   "metadata": {},
   "outputs": [],
   "source": []
  }
 ],
 "metadata": {
  "kernelspec": {
   "display_name": "Python 3 (ipykernel)",
   "language": "python",
   "name": "python3"
  },
  "language_info": {
   "codemirror_mode": {
    "name": "ipython",
    "version": 3
   },
   "file_extension": ".py",
   "mimetype": "text/x-python",
   "name": "python",
   "nbconvert_exporter": "python",
   "pygments_lexer": "ipython3",
   "version": "3.9.7"
  }
 },
 "nbformat": 4,
 "nbformat_minor": 5
}
