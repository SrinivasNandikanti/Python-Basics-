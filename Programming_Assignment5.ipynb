{
 "cells": [
  {
   "cell_type": "markdown",
   "id": "0c23c06e",
   "metadata": {},
   "source": [
    "1.\tWrite a Python Program to Find LCM?"
   ]
  },
  {
   "cell_type": "code",
   "execution_count": 57,
   "id": "09d06916",
   "metadata": {},
   "outputs": [
    {
     "name": "stdout",
     "output_type": "stream",
     "text": [
      "Enter the first number 12\n",
      "Enter the second number 3\n",
      "Multipliers of 12 are [12, 24, 36] \n",
      "Multipliers of 3 are [3, 6, 9, 12, 15, 18, 21, 24, 27, 30, 33, 36] \n",
      "List of common Multipliers of 12 and 3 are [12, 24, 36] \n",
      "LCM of 12 and 3 is 12\n"
     ]
    }
   ],
   "source": [
    "a = int(input(\"Enter the first number \"))\n",
    "b = int(input(\"Enter the second number \"))\n",
    "\n",
    "list1 = []\n",
    "for i in range(1,b+1):\n",
    "    j=i*a\n",
    "    list1.append(j)\n",
    "print(\"Multipliers of {} are {} \".format(a,list1))\n",
    "\n",
    "list2 = []\n",
    "for k in range(1,a+1):\n",
    "    l=k*b\n",
    "    list2.append(l)\n",
    "print(\"Multipliers of {} are {} \".format(b,list2))\n",
    "\n",
    "list3=[]\n",
    "for d in list2:\n",
    "    for c in list1:\n",
    "        if d==c:\n",
    "            list3.append(d)\n",
    "print(\"List of common Multipliers of {} and {} are {} \".format(a, b,list3))\n",
    "print(\"LCM of {} and {} is {}\".format(a,b,list3[0]))      "
   ]
  },
  {
   "cell_type": "markdown",
   "id": "9ea597b6",
   "metadata": {},
   "source": [
    "2.\tWrite a Python Program to Find HCF?"
   ]
  },
  {
   "cell_type": "code",
   "execution_count": 67,
   "id": "60ea3632",
   "metadata": {},
   "outputs": [
    {
     "name": "stdout",
     "output_type": "stream",
     "text": [
      "Enter the first number 128\n",
      "Enter the second number 96\n",
      "Factors of 128 are [1, 2, 4, 8, 16, 32, 64, 128] \n",
      "Factors of 96 are [1, 2, 3, 4, 6, 8, 12, 16, 24, 32, 48, 96] \n",
      "List of common Factors of 128 and 96 are [1, 2, 4, 8, 16, 32] \n",
      "HCF of 128 and 96 is 32\n"
     ]
    }
   ],
   "source": [
    "a = int(input(\"Enter the first number \"))\n",
    "b = int(input(\"Enter the second number \"))\n",
    "\n",
    "list1 = []\n",
    "for i in range(1,a+1):\n",
    "    if a%i ==0:\n",
    "        list1.append(i)\n",
    "print(\"Factors of {} are {} \".format(a,list1))\n",
    "\n",
    "list2 = []\n",
    "for j in range(1,b+1):\n",
    "    if b%j ==0:\n",
    "        list2.append(j)\n",
    "print(\"Factors of {} are {} \".format(b,list2))\n",
    "\n",
    "list3=[]\n",
    "for d in list2:\n",
    "    for c in list1:\n",
    "        if d==c:\n",
    "            list3.append(d)\n",
    "print(\"List of common Factors of {} and {} are {} \".format(a, b,list3))\n",
    "print(\"HCF of {} and {} is {}\".format(a,b,list3[(len(list3)-1)]))    "
   ]
  },
  {
   "cell_type": "markdown",
   "id": "96dad0c0",
   "metadata": {},
   "source": [
    "3.\tWrite a Python Program to Convert Decimal to Binary, Octal and Hexadecimal?"
   ]
  },
  {
   "cell_type": "code",
   "execution_count": 41,
   "id": "3f5efe48",
   "metadata": {},
   "outputs": [
    {
     "name": "stdout",
     "output_type": "stream",
     "text": [
      "Enter the Number 89\n",
      "The Binary of 89 is [1, 0, 1, 1, 0, 0, 1]\n",
      "The Octal of 89 is [1, 3, 1]\n",
      "The Hexadecimal of 89 is [5, 9]\n"
     ]
    }
   ],
   "source": [
    "a = int(input(\"Enter the Number \"))\n",
    "l = []\n",
    "e = a\n",
    "while e>0:\n",
    "    b = e%2\n",
    "    l.append(b)\n",
    "    e = int(e/2)\n",
    "l.reverse()\n",
    "\n",
    "print(\"The Binary of {} is {}\".format(a,l))\n",
    "\n",
    "m = []\n",
    "f = a\n",
    "while f>0:\n",
    "    c = f%8\n",
    "    m.append(c)\n",
    "    f = int(f/8)\n",
    "m.reverse()\n",
    "print(\"The Octal of {} is {}\".format(a,m))\n",
    "\n",
    "n = []\n",
    "g = a\n",
    "while g>0:\n",
    "    d = g%16\n",
    "    n.append(d)\n",
    "    g = int(g/16)\n",
    "n.reverse()\n",
    "print(\"The Hexadecimal of {} is {}\".format(a,n))"
   ]
  },
  {
   "cell_type": "markdown",
   "id": "cda21204",
   "metadata": {},
   "source": [
    "4.\tWrite a Python Program To Find ASCII value of a character?"
   ]
  },
  {
   "cell_type": "code",
   "execution_count": 5,
   "id": "a4edcda4",
   "metadata": {},
   "outputs": [
    {
     "name": "stdout",
     "output_type": "stream",
     "text": [
      "Enter a characters\n",
      "ASCII value of s is 115\n"
     ]
    }
   ],
   "source": [
    "a = str(input(\"Enter a character\"))\n",
    "print(\"ASCII value of {} is {}\".format(a, ord(a)))"
   ]
  },
  {
   "cell_type": "markdown",
   "id": "12a6764d",
   "metadata": {},
   "source": [
    "5.\tWrite a Python Program to Make a Simple Calculator with 4 basic mathematical operations?"
   ]
  },
  {
   "cell_type": "code",
   "execution_count": 14,
   "id": "4783d79e",
   "metadata": {},
   "outputs": [
    {
     "name": "stdout",
     "output_type": "stream",
     "text": [
      "Enter first number: 2\n",
      "Enter second number: 4\n",
      "please select any one from 4 available operations: sum, sub, mul, div div\n",
      "0.5\n"
     ]
    }
   ],
   "source": [
    "a = float(input(\"Enter first number: \"))\n",
    "b = float(input(\"Enter second number: \"))\n",
    "c = str(input(\"please select any one from 4 available operations: sum, sub, mul, div \"))\n",
    "if c == 'sum':\n",
    "    c= a+b\n",
    "    print(c)\n",
    "if c == 'sub':\n",
    "    c= a-b\n",
    "    print(c)\n",
    "if c == 'mul':\n",
    "    c= a*b\n",
    "    print(c)\n",
    "if c == 'div':\n",
    "    c= a/b\n",
    "    print(c)"
   ]
  },
  {
   "cell_type": "code",
   "execution_count": null,
   "id": "1580e9c4",
   "metadata": {},
   "outputs": [],
   "source": []
  }
 ],
 "metadata": {
  "kernelspec": {
   "display_name": "Python 3 (ipykernel)",
   "language": "python",
   "name": "python3"
  },
  "language_info": {
   "codemirror_mode": {
    "name": "ipython",
    "version": 3
   },
   "file_extension": ".py",
   "mimetype": "text/x-python",
   "name": "python",
   "nbconvert_exporter": "python",
   "pygments_lexer": "ipython3",
   "version": "3.9.7"
  }
 },
 "nbformat": 4,
 "nbformat_minor": 5
}
